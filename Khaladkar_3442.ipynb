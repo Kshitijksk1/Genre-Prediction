{
  "nbformat": 4,
  "nbformat_minor": 0,
  "metadata": {
    "colab": {
      "name": "Genre Prediction.ipynb",
      "provenance": [],
      "collapsed_sections": []
    },
    "kernelspec": {
      "name": "python3",
      "display_name": "Python 3"
    },
    "language_info": {
      "name": "python"
    }
  },
  "cells": [
    {
      "cell_type": "code",
      "metadata": {
        "id": "jO7cedE-Eq1D"
      },
      "source": [
        "import pandas as pd\n",
        "import numpy as np\n",
        "import json\n",
        "import nltk\n",
        "import re\n",
        "import csv\n",
        "from tqdm import tqdm\n",
        "%matplotlib inline\n",
        "pd.set_option('display.max_colwidth', 300)\n",
        "from sklearn.feature_extraction.text import TfidfVectorizer\n",
        "from sklearn.preprocessing import MultiLabelBinarizer"
      ],
      "execution_count": 167,
      "outputs": []
    },
    {
      "cell_type": "code",
      "metadata": {
        "colab": {
          "base_uri": "https://localhost:8080/"
        },
        "id": "HNgqp1eNEtRd",
        "outputId": "603baee5-7555-4697-eb81-cb62912f6943"
      },
      "source": [
        "textdata = []\n",
        "with open('/content/drive/MyDrive/booksummaries.txt', 'r') as f:\n",
        "  reader = csv.reader(f, dialect='excel-tab') \n",
        "  for row in tqdm(reader):\n",
        "    textdata.append(row)\n",
        "      "
      ],
      "execution_count": 168,
      "outputs": [
        {
          "output_type": "stream",
          "text": [
            "16559it [00:00, 26150.94it/s]\n"
          ],
          "name": "stderr"
        }
      ]
    },
    {
      "cell_type": "code",
      "metadata": {
        "colab": {
          "base_uri": "https://localhost:8080/",
          "height": 464
        },
        "id": "obZoNUDWFpQy",
        "outputId": "d0813095-81c8-4ff6-9e2c-f762cc0122bc"
      },
      "source": [
        "book_id=[]\n",
        "genre = []\n",
        "name=[]\n",
        "summary=[]\n",
        "author=[]\n",
        "\n",
        "for x in tqdm(textdata):\n",
        "  book_id.append(x[0])\n",
        "  genre.append(x[5])\n",
        "  name.append(x[2])\n",
        "  summary.append(x[6])\n",
        "  author.append(x[3])\n",
        "\n",
        "book_info=pd.DataFrame({'Book_id':book_id, 'Name':name, 'Author':author, 'Genre':genre, 'Summary':summary})\n",
        "book_info.head()"
      ],
      "execution_count": 169,
      "outputs": [
        {
          "output_type": "stream",
          "text": [
            "100%|██████████| 16559/16559 [00:00<00:00, 699783.17it/s]\n"
          ],
          "name": "stderr"
        },
        {
          "output_type": "execute_result",
          "data": {
            "text/html": [
              "<div>\n",
              "<style scoped>\n",
              "    .dataframe tbody tr th:only-of-type {\n",
              "        vertical-align: middle;\n",
              "    }\n",
              "\n",
              "    .dataframe tbody tr th {\n",
              "        vertical-align: top;\n",
              "    }\n",
              "\n",
              "    .dataframe thead th {\n",
              "        text-align: right;\n",
              "    }\n",
              "</style>\n",
              "<table border=\"1\" class=\"dataframe\">\n",
              "  <thead>\n",
              "    <tr style=\"text-align: right;\">\n",
              "      <th></th>\n",
              "      <th>Book_id</th>\n",
              "      <th>Name</th>\n",
              "      <th>Author</th>\n",
              "      <th>Genre</th>\n",
              "      <th>Summary</th>\n",
              "    </tr>\n",
              "  </thead>\n",
              "  <tbody>\n",
              "    <tr>\n",
              "      <th>0</th>\n",
              "      <td>620</td>\n",
              "      <td>Animal Farm</td>\n",
              "      <td>George Orwell</td>\n",
              "      <td>{\"/m/016lj8\": \"Roman \\u00e0 clef\", \"/m/06nbt\": \"Satire\", \"/m/0dwly\": \"Children's literature\", \"/m/014dfn\": \"Speculative fiction\", \"/m/02xlf\": \"Fiction\"}</td>\n",
              "      <td>Old Major, the old boar on the Manor Farm, calls the animals on the farm for a meeting, where he compares the humans to parasites and teaches the animals a revolutionary song, 'Beasts of England'. When Major dies, two young pigs, Snowball and Napoleon, assume command and turn his dream into a p...</td>\n",
              "    </tr>\n",
              "    <tr>\n",
              "      <th>1</th>\n",
              "      <td>843</td>\n",
              "      <td>A Clockwork Orange</td>\n",
              "      <td>Anthony Burgess</td>\n",
              "      <td>{\"/m/06n90\": \"Science Fiction\", \"/m/0l67h\": \"Novella\", \"/m/014dfn\": \"Speculative fiction\", \"/m/0c082\": \"Utopian and dystopian fiction\", \"/m/06nbt\": \"Satire\", \"/m/02xlf\": \"Fiction\"}</td>\n",
              "      <td>Alex, a teenager living in near-future England, leads his gang on nightly orgies of opportunistic, random \"ultra-violence.\" Alex's friends (\"droogs\" in the novel's Anglo-Russian slang, Nadsat) are: Dim, a slow-witted bruiser who is the gang's muscle; Georgie, an ambitious second-in-command; and...</td>\n",
              "    </tr>\n",
              "    <tr>\n",
              "      <th>2</th>\n",
              "      <td>986</td>\n",
              "      <td>The Plague</td>\n",
              "      <td>Albert Camus</td>\n",
              "      <td>{\"/m/02m4t\": \"Existentialism\", \"/m/02xlf\": \"Fiction\", \"/m/0pym5\": \"Absurdist fiction\", \"/m/05hgj\": \"Novel\"}</td>\n",
              "      <td>The text of The Plague is divided into five parts. In the town of Oran, thousands of rats, initially unnoticed by the populace, begin to die in the streets. A hysteria develops soon afterward, causing the local newspapers to report the incident. Authorities responding to public pressure order t...</td>\n",
              "    </tr>\n",
              "    <tr>\n",
              "      <th>3</th>\n",
              "      <td>1756</td>\n",
              "      <td>An Enquiry Concerning Human Understanding</td>\n",
              "      <td>David Hume</td>\n",
              "      <td></td>\n",
              "      <td>The argument of the Enquiry proceeds by a series of incremental steps, separated into chapters which logically succeed one another. After expounding his epistemology, Hume explains how to apply his principles to specific topics. In the first section of the Enquiry, Hume provides a rough introdu...</td>\n",
              "    </tr>\n",
              "    <tr>\n",
              "      <th>4</th>\n",
              "      <td>2080</td>\n",
              "      <td>A Fire Upon the Deep</td>\n",
              "      <td>Vernor Vinge</td>\n",
              "      <td>{\"/m/03lrw\": \"Hard science fiction\", \"/m/06n90\": \"Science Fiction\", \"/m/014dfn\": \"Speculative fiction\", \"/m/01hmnh\": \"Fantasy\", \"/m/02xlf\": \"Fiction\"}</td>\n",
              "      <td>The novel posits that space around the Milky Way is divided into concentric layers called Zones, each being constrained by different laws of physics and each allowing for different degrees of biological and technological advancement. The innermost, the \"Unthinking Depths\", surrounds the galacti...</td>\n",
              "    </tr>\n",
              "  </tbody>\n",
              "</table>\n",
              "</div>"
            ],
            "text/plain": [
              "  Book_id  ...                                                                                                                                                                                                                                                                                                      Summary\n",
              "0     620  ...   Old Major, the old boar on the Manor Farm, calls the animals on the farm for a meeting, where he compares the humans to parasites and teaches the animals a revolutionary song, 'Beasts of England'. When Major dies, two young pigs, Snowball and Napoleon, assume command and turn his dream into a p...\n",
              "1     843  ...   Alex, a teenager living in near-future England, leads his gang on nightly orgies of opportunistic, random \"ultra-violence.\" Alex's friends (\"droogs\" in the novel's Anglo-Russian slang, Nadsat) are: Dim, a slow-witted bruiser who is the gang's muscle; Georgie, an ambitious second-in-command; and...\n",
              "2     986  ...   The text of The Plague is divided into five parts. In the town of Oran, thousands of rats, initially unnoticed by the populace, begin to die in the streets. A hysteria develops soon afterward, causing the local newspapers to report the incident. Authorities responding to public pressure order t...\n",
              "3    1756  ...   The argument of the Enquiry proceeds by a series of incremental steps, separated into chapters which logically succeed one another. After expounding his epistemology, Hume explains how to apply his principles to specific topics. In the first section of the Enquiry, Hume provides a rough introdu...\n",
              "4    2080  ...   The novel posits that space around the Milky Way is divided into concentric layers called Zones, each being constrained by different laws of physics and each allowing for different degrees of biological and technological advancement. The innermost, the \"Unthinking Depths\", surrounds the galacti...\n",
              "\n",
              "[5 rows x 5 columns]"
            ]
          },
          "metadata": {
            "tags": []
          },
          "execution_count": 169
        }
      ]
    },
    {
      "cell_type": "code",
      "metadata": {
        "colab": {
          "base_uri": "https://localhost:8080/",
          "height": 47
        },
        "id": "J0ZYDcLVGZVT",
        "outputId": "68f006f1-10bb-4b24-a999-8d3edc9670ef"
      },
      "source": [
        "book_info.drop(book_info[book_info['Genre']==''].index, inplace=True)\n",
        "book_info[book_info['Genre']=='']"
      ],
      "execution_count": 170,
      "outputs": [
        {
          "output_type": "execute_result",
          "data": {
            "text/html": [
              "<div>\n",
              "<style scoped>\n",
              "    .dataframe tbody tr th:only-of-type {\n",
              "        vertical-align: middle;\n",
              "    }\n",
              "\n",
              "    .dataframe tbody tr th {\n",
              "        vertical-align: top;\n",
              "    }\n",
              "\n",
              "    .dataframe thead th {\n",
              "        text-align: right;\n",
              "    }\n",
              "</style>\n",
              "<table border=\"1\" class=\"dataframe\">\n",
              "  <thead>\n",
              "    <tr style=\"text-align: right;\">\n",
              "      <th></th>\n",
              "      <th>Book_id</th>\n",
              "      <th>Name</th>\n",
              "      <th>Author</th>\n",
              "      <th>Genre</th>\n",
              "      <th>Summary</th>\n",
              "    </tr>\n",
              "  </thead>\n",
              "  <tbody>\n",
              "  </tbody>\n",
              "</table>\n",
              "</div>"
            ],
            "text/plain": [
              "Empty DataFrame\n",
              "Columns: [Book_id, Name, Author, Genre, Summary]\n",
              "Index: []"
            ]
          },
          "metadata": {
            "tags": []
          },
          "execution_count": 170
        }
      ]
    },
    {
      "cell_type": "code",
      "metadata": {
        "colab": {
          "base_uri": "https://localhost:8080/"
        },
        "id": "Ln3qSgnUIh5b",
        "outputId": "3b10a1d4-3b3f-43c3-f1f7-3bc8b53b95e2"
      },
      "source": [
        "json.loads(book_info['Genre'][0]).values()"
      ],
      "execution_count": 171,
      "outputs": [
        {
          "output_type": "execute_result",
          "data": {
            "text/plain": [
              "dict_values(['Roman à clef', 'Satire', \"Children's literature\", 'Speculative fiction', 'Fiction'])"
            ]
          },
          "metadata": {
            "tags": []
          },
          "execution_count": 171
        }
      ]
    },
    {
      "cell_type": "code",
      "metadata": {
        "id": "lc_TASSeLQz1"
      },
      "source": [
        "Genre_data=[]\n",
        "for x in book_info['Genre']:\n",
        "  Genre_data.append(list(json.loads(x).values()))\n",
        "book_info['Genre_process']=Genre_data"
      ],
      "execution_count": 172,
      "outputs": []
    },
    {
      "cell_type": "code",
      "metadata": {
        "colab": {
          "base_uri": "https://localhost:8080/"
        },
        "id": "YzW-KYcDNRdV",
        "outputId": "df0b665f-aa08-4ea7-b467-78b822f52c0a"
      },
      "source": [
        "all = sum(Genre_data,[])\n",
        "len(set(all))"
      ],
      "execution_count": 173,
      "outputs": [
        {
          "output_type": "execute_result",
          "data": {
            "text/plain": [
              "227"
            ]
          },
          "metadata": {
            "tags": []
          },
          "execution_count": 173
        }
      ]
    },
    {
      "cell_type": "code",
      "metadata": {
        "id": "ZqKPjPihVZZj"
      },
      "source": [
        "def process_summary(text):\n",
        "  text = re.sub(\"\\'\",\"\", text)\n",
        "  text = re.sub(\"[^a-zA-Z]\",\" \", text)\n",
        "  text = ' '.join(text.split())\n",
        "  text = text.lower()\n",
        "  return text"
      ],
      "execution_count": 174,
      "outputs": []
    },
    {
      "cell_type": "code",
      "metadata": {
        "colab": {
          "base_uri": "https://localhost:8080/",
          "height": 766
        },
        "id": "3Hjo7lkoWSEX",
        "outputId": "a20cc236-6bb7-437d-ca46-820ddbae57c0"
      },
      "source": [
        "book_info['process_summary'] = book_info['Summary'].apply(lambda x: process_summary(x))\n",
        "book_info.head()"
      ],
      "execution_count": 175,
      "outputs": [
        {
          "output_type": "execute_result",
          "data": {
            "text/html": [
              "<div>\n",
              "<style scoped>\n",
              "    .dataframe tbody tr th:only-of-type {\n",
              "        vertical-align: middle;\n",
              "    }\n",
              "\n",
              "    .dataframe tbody tr th {\n",
              "        vertical-align: top;\n",
              "    }\n",
              "\n",
              "    .dataframe thead th {\n",
              "        text-align: right;\n",
              "    }\n",
              "</style>\n",
              "<table border=\"1\" class=\"dataframe\">\n",
              "  <thead>\n",
              "    <tr style=\"text-align: right;\">\n",
              "      <th></th>\n",
              "      <th>Book_id</th>\n",
              "      <th>Name</th>\n",
              "      <th>Author</th>\n",
              "      <th>Genre</th>\n",
              "      <th>Summary</th>\n",
              "      <th>Genre_process</th>\n",
              "      <th>process_summary</th>\n",
              "    </tr>\n",
              "  </thead>\n",
              "  <tbody>\n",
              "    <tr>\n",
              "      <th>0</th>\n",
              "      <td>620</td>\n",
              "      <td>Animal Farm</td>\n",
              "      <td>George Orwell</td>\n",
              "      <td>{\"/m/016lj8\": \"Roman \\u00e0 clef\", \"/m/06nbt\": \"Satire\", \"/m/0dwly\": \"Children's literature\", \"/m/014dfn\": \"Speculative fiction\", \"/m/02xlf\": \"Fiction\"}</td>\n",
              "      <td>Old Major, the old boar on the Manor Farm, calls the animals on the farm for a meeting, where he compares the humans to parasites and teaches the animals a revolutionary song, 'Beasts of England'. When Major dies, two young pigs, Snowball and Napoleon, assume command and turn his dream into a p...</td>\n",
              "      <td>[Roman à clef, Satire, Children's literature, Speculative fiction, Fiction]</td>\n",
              "      <td>old major the old boar on the manor farm calls the animals on the farm for a meeting where he compares the humans to parasites and teaches the animals a revolutionary song beasts of england when major dies two young pigs snowball and napoleon assume command and turn his dream into a philosophy t...</td>\n",
              "    </tr>\n",
              "    <tr>\n",
              "      <th>1</th>\n",
              "      <td>843</td>\n",
              "      <td>A Clockwork Orange</td>\n",
              "      <td>Anthony Burgess</td>\n",
              "      <td>{\"/m/06n90\": \"Science Fiction\", \"/m/0l67h\": \"Novella\", \"/m/014dfn\": \"Speculative fiction\", \"/m/0c082\": \"Utopian and dystopian fiction\", \"/m/06nbt\": \"Satire\", \"/m/02xlf\": \"Fiction\"}</td>\n",
              "      <td>Alex, a teenager living in near-future England, leads his gang on nightly orgies of opportunistic, random \"ultra-violence.\" Alex's friends (\"droogs\" in the novel's Anglo-Russian slang, Nadsat) are: Dim, a slow-witted bruiser who is the gang's muscle; Georgie, an ambitious second-in-command; and...</td>\n",
              "      <td>[Science Fiction, Novella, Speculative fiction, Utopian and dystopian fiction, Satire, Fiction]</td>\n",
              "      <td>alex a teenager living in near future england leads his gang on nightly orgies of opportunistic random ultra violence alexs friends droogs in the novels anglo russian slang nadsat are dim a slow witted bruiser who is the gangs muscle georgie an ambitious second in command and pete who mostly pla...</td>\n",
              "    </tr>\n",
              "    <tr>\n",
              "      <th>2</th>\n",
              "      <td>986</td>\n",
              "      <td>The Plague</td>\n",
              "      <td>Albert Camus</td>\n",
              "      <td>{\"/m/02m4t\": \"Existentialism\", \"/m/02xlf\": \"Fiction\", \"/m/0pym5\": \"Absurdist fiction\", \"/m/05hgj\": \"Novel\"}</td>\n",
              "      <td>The text of The Plague is divided into five parts. In the town of Oran, thousands of rats, initially unnoticed by the populace, begin to die in the streets. A hysteria develops soon afterward, causing the local newspapers to report the incident. Authorities responding to public pressure order t...</td>\n",
              "      <td>[Existentialism, Fiction, Absurdist fiction, Novel]</td>\n",
              "      <td>the text of the plague is divided into five parts in the town of oran thousands of rats initially unnoticed by the populace begin to die in the streets a hysteria develops soon afterward causing the local newspapers to report the incident authorities responding to public pressure order the colle...</td>\n",
              "    </tr>\n",
              "    <tr>\n",
              "      <th>4</th>\n",
              "      <td>2080</td>\n",
              "      <td>A Fire Upon the Deep</td>\n",
              "      <td>Vernor Vinge</td>\n",
              "      <td>{\"/m/03lrw\": \"Hard science fiction\", \"/m/06n90\": \"Science Fiction\", \"/m/014dfn\": \"Speculative fiction\", \"/m/01hmnh\": \"Fantasy\", \"/m/02xlf\": \"Fiction\"}</td>\n",
              "      <td>The novel posits that space around the Milky Way is divided into concentric layers called Zones, each being constrained by different laws of physics and each allowing for different degrees of biological and technological advancement. The innermost, the \"Unthinking Depths\", surrounds the galacti...</td>\n",
              "      <td>[Hard science fiction, Science Fiction, Speculative fiction, Fantasy, Fiction]</td>\n",
              "      <td>the novel posits that space around the milky way is divided into concentric layers called zones each being constrained by different laws of physics and each allowing for different degrees of biological and technological advancement the innermost the unthinking depths surrounds the galactic core ...</td>\n",
              "    </tr>\n",
              "    <tr>\n",
              "      <th>5</th>\n",
              "      <td>2152</td>\n",
              "      <td>All Quiet on the Western Front</td>\n",
              "      <td>Erich Maria Remarque</td>\n",
              "      <td>{\"/m/098tmk\": \"War novel\", \"/m/016lj8\": \"Roman \\u00e0 clef\"}</td>\n",
              "      <td>The book tells the story of Paul Bäumer, a German soldier who—urged on by his school teacher—joins the German army shortly after the start of World War I. Bäumer arrives at the Western Front with his friends and schoolmates (Tjaden, Müller, Kropp and a number of other characters). There they me...</td>\n",
              "      <td>[War novel, Roman à clef]</td>\n",
              "      <td>the book tells the story of paul b umer a german soldier who urged on by his school teacher joins the german army shortly after the start of world war i b umer arrives at the western front with his friends and schoolmates tjaden m ller kropp and a number of other characters there they meet stani...</td>\n",
              "    </tr>\n",
              "  </tbody>\n",
              "</table>\n",
              "</div>"
            ],
            "text/plain": [
              "  Book_id  ...                                                                                                                                                                                                                                                                                              process_summary\n",
              "0     620  ...  old major the old boar on the manor farm calls the animals on the farm for a meeting where he compares the humans to parasites and teaches the animals a revolutionary song beasts of england when major dies two young pigs snowball and napoleon assume command and turn his dream into a philosophy t...\n",
              "1     843  ...  alex a teenager living in near future england leads his gang on nightly orgies of opportunistic random ultra violence alexs friends droogs in the novels anglo russian slang nadsat are dim a slow witted bruiser who is the gangs muscle georgie an ambitious second in command and pete who mostly pla...\n",
              "2     986  ...  the text of the plague is divided into five parts in the town of oran thousands of rats initially unnoticed by the populace begin to die in the streets a hysteria develops soon afterward causing the local newspapers to report the incident authorities responding to public pressure order the colle...\n",
              "4    2080  ...  the novel posits that space around the milky way is divided into concentric layers called zones each being constrained by different laws of physics and each allowing for different degrees of biological and technological advancement the innermost the unthinking depths surrounds the galactic core ...\n",
              "5    2152  ...  the book tells the story of paul b umer a german soldier who urged on by his school teacher joins the german army shortly after the start of world war i b umer arrives at the western front with his friends and schoolmates tjaden m ller kropp and a number of other characters there they meet stani...\n",
              "\n",
              "[5 rows x 7 columns]"
            ]
          },
          "metadata": {
            "tags": []
          },
          "execution_count": 175
        }
      ]
    },
    {
      "cell_type": "code",
      "metadata": {
        "colab": {
          "base_uri": "https://localhost:8080/"
        },
        "id": "30h9xQbuWucz",
        "outputId": "35476d04-31a0-413e-9e73-92174c53e333"
      },
      "source": [
        "import nltk\n",
        "nltk.download(\"stopwords\")\n",
        "stopwords_set = set(stopwords.words('english'))\n",
        "def remove(text):\n",
        "    stopword_process = [w for w in text.split() if not w in stopwords_set]\n",
        "    return ' '.join(stopword_process)\n",
        "\n",
        "book_info['process_summary'] = book_info['process_summary'].apply(lambda x: remove(x))"
      ],
      "execution_count": 176,
      "outputs": [
        {
          "output_type": "stream",
          "text": [
            "[nltk_data] Downloading package stopwords to /root/nltk_data...\n",
            "[nltk_data]   Package stopwords is already up-to-date!\n"
          ],
          "name": "stdout"
        }
      ]
    },
    {
      "cell_type": "code",
      "metadata": {
        "id": "XHM_ES8GZpte"
      },
      "source": [
        "from sklearn.preprocessing import MultiLabelBinarizer\n",
        "multilabel_binarizer = MultiLabelBinarizer()\n",
        "multilabel_binarizer.fit(book_info['Genre_process'])\n",
        "y = multilabel_binarizer.transform(book_info['Genre_process'])"
      ],
      "execution_count": 177,
      "outputs": []
    },
    {
      "cell_type": "code",
      "metadata": {
        "id": "Kx37Cx7DgG_O"
      },
      "source": [
        "from sklearn.model_selection import train_test_split\n",
        "x_train, x_val, y_train, y_val = train_test_split(book_info['process_summary'],y, test_size=0.2)"
      ],
      "execution_count": 178,
      "outputs": []
    },
    {
      "cell_type": "code",
      "metadata": {
        "id": "J5hbb4Kgh2on"
      },
      "source": [
        "tfidf_vectorizer = TfidfVectorizer(max_df=0.8, max_features=10000)"
      ],
      "execution_count": 179,
      "outputs": []
    },
    {
      "cell_type": "code",
      "metadata": {
        "id": "hvwcq_eril6n"
      },
      "source": [
        "X_train = tfidf_vectorizer.fit_transform(x_train)"
      ],
      "execution_count": 180,
      "outputs": []
    },
    {
      "cell_type": "code",
      "metadata": {
        "id": "uqIPWnK_jM07"
      },
      "source": [
        "X_val = tfidf_vectorizer.transform(x_val)"
      ],
      "execution_count": 181,
      "outputs": []
    },
    {
      "cell_type": "code",
      "metadata": {
        "id": "0CotPoWFjWB1"
      },
      "source": [
        "from sklearn.linear_model import LogisticRegression\n",
        "LogR = LogisticRegression()"
      ],
      "execution_count": 182,
      "outputs": []
    },
    {
      "cell_type": "code",
      "metadata": {
        "id": "eDc2Cs0CjbvH"
      },
      "source": [
        "from sklearn.multiclass import OneVsRestClassifier\n",
        "OVR = OneVsRestClassifier(LogR)"
      ],
      "execution_count": 183,
      "outputs": []
    },
    {
      "cell_type": "code",
      "metadata": {
        "colab": {
          "base_uri": "https://localhost:8080/"
        },
        "id": "AsqJsFDqmKCp",
        "outputId": "7ed5d93e-e04c-473c-9bbd-526a74ca8a09"
      },
      "source": [
        "OVR.fit(X_train,y_train)"
      ],
      "execution_count": 184,
      "outputs": [
        {
          "output_type": "stream",
          "text": [
            "/usr/local/lib/python3.7/dist-packages/sklearn/multiclass.py:75: UserWarning: Label not 4 is present in all training examples.\n",
            "  str(classes[c]))\n",
            "/usr/local/lib/python3.7/dist-packages/sklearn/multiclass.py:75: UserWarning: Label not 24 is present in all training examples.\n",
            "  str(classes[c]))\n",
            "/usr/local/lib/python3.7/dist-packages/sklearn/multiclass.py:75: UserWarning: Label not 30 is present in all training examples.\n",
            "  str(classes[c]))\n",
            "/usr/local/lib/python3.7/dist-packages/sklearn/multiclass.py:75: UserWarning: Label not 41 is present in all training examples.\n",
            "  str(classes[c]))\n",
            "/usr/local/lib/python3.7/dist-packages/sklearn/multiclass.py:75: UserWarning: Label not 67 is present in all training examples.\n",
            "  str(classes[c]))\n",
            "/usr/local/lib/python3.7/dist-packages/sklearn/multiclass.py:75: UserWarning: Label not 79 is present in all training examples.\n",
            "  str(classes[c]))\n",
            "/usr/local/lib/python3.7/dist-packages/sklearn/multiclass.py:75: UserWarning: Label not 131 is present in all training examples.\n",
            "  str(classes[c]))\n",
            "/usr/local/lib/python3.7/dist-packages/sklearn/multiclass.py:75: UserWarning: Label not 132 is present in all training examples.\n",
            "  str(classes[c]))\n",
            "/usr/local/lib/python3.7/dist-packages/sklearn/multiclass.py:75: UserWarning: Label not 154 is present in all training examples.\n",
            "  str(classes[c]))\n"
          ],
          "name": "stderr"
        },
        {
          "output_type": "execute_result",
          "data": {
            "text/plain": [
              "OneVsRestClassifier(estimator=LogisticRegression(C=1.0, class_weight=None,\n",
              "                                                 dual=False, fit_intercept=True,\n",
              "                                                 intercept_scaling=1,\n",
              "                                                 l1_ratio=None, max_iter=100,\n",
              "                                                 multi_class='auto',\n",
              "                                                 n_jobs=None, penalty='l2',\n",
              "                                                 random_state=None,\n",
              "                                                 solver='lbfgs', tol=0.0001,\n",
              "                                                 verbose=0, warm_start=False),\n",
              "                    n_jobs=None)"
            ]
          },
          "metadata": {
            "tags": []
          },
          "execution_count": 184
        }
      ]
    },
    {
      "cell_type": "code",
      "metadata": {
        "colab": {
          "base_uri": "https://localhost:8080/"
        },
        "id": "77XU5VTcmQfA",
        "outputId": "62e7c699-cf35-46a2-b0a4-fd953537a246"
      },
      "source": [
        "from sklearn.metrics import f1_score, accuracy_score\n",
        "y_pred = OVR.predict(X_val)\n",
        "f1_score(y_val, y_pred, average='micro')"
      ],
      "execution_count": 185,
      "outputs": [
        {
          "output_type": "execute_result",
          "data": {
            "text/plain": [
              "0.3677792831629511"
            ]
          },
          "metadata": {
            "tags": []
          },
          "execution_count": 185
        }
      ]
    },
    {
      "cell_type": "code",
      "metadata": {
        "colab": {
          "base_uri": "https://localhost:8080/"
        },
        "id": "_T6fAon8rgOE",
        "outputId": "bcb1f23e-6fae-4495-b8db-ab5428b72b48"
      },
      "source": [
        "accuracy_score(y_val, y_pred)"
      ],
      "execution_count": 186,
      "outputs": [
        {
          "output_type": "execute_result",
          "data": {
            "text/plain": [
              "0.07901907356948229"
            ]
          },
          "metadata": {
            "tags": []
          },
          "execution_count": 186
        }
      ]
    },
    {
      "cell_type": "code",
      "metadata": {
        "id": "t9jB1jder_L7"
      },
      "source": [
        "pred_prob = OVR.predict_proba(X_val)"
      ],
      "execution_count": 187,
      "outputs": []
    },
    {
      "cell_type": "code",
      "metadata": {
        "colab": {
          "base_uri": "https://localhost:8080/"
        },
        "id": "iqS_2e6wuB5R",
        "outputId": "22d2ef73-e702-4b2c-9163-e6ced2a36e60"
      },
      "source": [
        "t=0.3\n",
        "predp = (pred_prob >= t).astype(int)\n",
        "f1_score(y_val, predp, average='micro')"
      ],
      "execution_count": 188,
      "outputs": [
        {
          "output_type": "execute_result",
          "data": {
            "text/plain": [
              "0.5303985089198544"
            ]
          },
          "metadata": {
            "tags": []
          },
          "execution_count": 188
        }
      ]
    },
    {
      "cell_type": "code",
      "metadata": {
        "colab": {
          "base_uri": "https://localhost:8080/"
        },
        "id": "yHq7kEPMudrE",
        "outputId": "2ffcdb77-6137-4409-80fd-b97491f3c406"
      },
      "source": [
        "accuracy_score(y_val, predp)"
      ],
      "execution_count": 189,
      "outputs": [
        {
          "output_type": "execute_result",
          "data": {
            "text/plain": [
              "0.11093810821331257"
            ]
          },
          "metadata": {
            "tags": []
          },
          "execution_count": 189
        }
      ]
    },
    {
      "cell_type": "code",
      "metadata": {
        "id": "NY-CA_ugvTUT"
      },
      "source": [
        "def predict(m):\n",
        "  m = process_summary(m)\n",
        "  m = remove(m)\n",
        "  m_vec = tfidf_vectorizer.transform([m])\n",
        "  m_pred = OVR.predict(m_vec)\n",
        "  return multilabel_binarizer.inverse_transform(m_pred)"
      ],
      "execution_count": 190,
      "outputs": []
    },
    {
      "cell_type": "code",
      "metadata": {
        "colab": {
          "base_uri": "https://localhost:8080/"
        },
        "id": "BkW8b-EcwCXm",
        "outputId": "fdfc76a6-19e7-4bb2-ac8f-d9db768b0453"
      },
      "source": [
        "for x in range(10):\n",
        "  a = x_val.sample(1).index[0]\n",
        "  print(\"Book: \", book_info['Name'][a], \"\\nPredicted Genre: \", predict(x_val[a]))\n",
        "  print(\"Excpected Genre: \", book_info['Genre_process'][a], \"\\n\")"
      ],
      "execution_count": 191,
      "outputs": [
        {
          "output_type": "stream",
          "text": [
            "Book:  If I Stay \n",
            "Predicted Genre:  [()]\n",
            "Excpected Genre:  ['Young adult literature', 'Fiction'] \n",
            "\n",
            "Book:  The Land of Painted Caves \n",
            "Predicted Genre:  [('Fiction', 'Speculative fiction')]\n",
            "Excpected Genre:  ['Alternate history', 'Speculative fiction', 'Historical novel'] \n",
            "\n",
            "Book:  The Hippopotamus Pool \n",
            "Predicted Genre:  [()]\n",
            "Excpected Genre:  ['Mystery', 'Historical novel'] \n",
            "\n",
            "Book:  Prophets of the Dark Side \n",
            "Predicted Genre:  [('Science Fiction', 'Speculative fiction')]\n",
            "Excpected Genre:  ['Science Fiction'] \n",
            "\n",
            "Book:  Obsidian Butterfly \n",
            "Predicted Genre:  [('Mystery', 'Speculative fiction')]\n",
            "Excpected Genre:  ['Science Fiction', 'Horror', 'Speculative fiction', 'Mystery', 'Fantasy', 'Fiction'] \n",
            "\n",
            "Book:  Without Remorse \n",
            "Predicted Genre:  [('Fiction',)]\n",
            "Excpected Genre:  ['Thriller', 'Mystery', 'Novel', 'Fiction', 'Suspense'] \n",
            "\n",
            "Book:  Sir Nobonk and the Terrible Dreadful Awful Naughty Nasty Dragon \n",
            "Predicted Genre:  [('Fantasy', 'Speculative fiction')]\n",
            "Excpected Genre:  [\"Children's literature\", 'Comedy'] \n",
            "\n",
            "Book:  According to Mary Magdalene \n",
            "Predicted Genre:  [()]\n",
            "Excpected Genre:  ['Fiction', 'Novel'] \n",
            "\n",
            "Book:  Dead to the World \n",
            "Predicted Genre:  [('Fantasy',)]\n",
            "Excpected Genre:  ['Horror', 'Speculative fiction', 'Romance novel', 'Mystery', 'Fantasy', 'Gothic fiction'] \n",
            "\n",
            "Book:  The Absolutely True Diary of a Part-Time Indian \n",
            "Predicted Genre:  [()]\n",
            "Excpected Genre:  [\"Children's literature\", 'Young adult literature', 'Fiction'] \n",
            "\n"
          ],
          "name": "stdout"
        }
      ]
    },
    {
      "cell_type": "code",
      "metadata": {
        "id": "tJz7v7X8yS64"
      },
      "source": [
        "# References:\n",
        "\n",
        "# https://www.ics.uci.edu/~smyth/courses/cs175/text_data_sets.html\n",
        "# http://www.cs.cmu.edu/~dbamman/booksummaries.html\n",
        "# https://www.geeksforgeeks.org/detect-an-unknown-language-using-python/\n",
        "# https://towardsdatascience.com/an-illustrated-guide-to-the-poisson-regression-model-50cccba15958\n",
        "# https://scikit-learn.org/stable/modules/generated/sklearn.multiclass.OneVsRestClassifier.html\n",
        "# https://machinelearningmastery.com/one-vs-rest-and-one-vs-one-for-multi-class-classification/\n",
        "# https://scikit-learn.org/stable/modules/generated/sklearn.metrics.f1_score.html\n",
        "# https://www.analyticsvidhya.com/blog/2019/04/predicting-movie-genres-nlp-multi-label-classification/\n",
        "# https://stackoverflow.com/questions/26693736/nltk-and-stopwords-fail-lookuperror\n",
        "# https://www.kaggle.com/ymaricar/cmu-book-summary-dataset"
      ],
      "execution_count": 192,
      "outputs": []
    }
  ]
}